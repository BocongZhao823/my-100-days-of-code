{
 "cells": [
  {
   "cell_type": "code",
   "execution_count": 2,
   "metadata": {},
   "outputs": [
    {
     "name": "stdout",
     "output_type": "stream",
     "text": [
      "Apple\n",
      "ApplePie\n",
      "Peach\n",
      "PeachPie\n",
      "Pear\n",
      "PearPie\n"
     ]
    }
   ],
   "source": [
    "fruits = [\"Apple\", \"Peach\", \"Pear\"]\n",
    "for fruit in fruits:\n",
    "    print(fruit)\n",
    "    print(fruit + \"Pie\")"
   ]
  },
  {
   "cell_type": "markdown",
   "metadata": {},
   "source": [
    "### Instructions\n",
    "\n",
    "You are going to write a program that calculates the average student height from a List of heights.\n",
    "\n",
    "e.g. student_heights = [180, 124, 165, 173, 189, 169, 146]\n",
    "\n",
    "The average height can be calculated by adding all the heights together and dividing by the total number of heights.\n",
    "\n",
    "e.g.\n",
    "\n",
    "180 + 124 + 165 + 173 + 189 + 169 + 146 = 1146\n",
    "\n",
    "There are a total of 7 heights in student_heights\n",
    "\n",
    "1146 ÷ 7 = 163.71428571428572\n",
    "\n",
    "Average height rounded to the nearest whole number = 164\n",
    "\n",
    "Important You should not use the sum() or len() functions in your answer. You should try to replicate their functionality using what you have learnt about for loops.\n",
    "\n",
    "### Example Input 1\n",
    "\n",
    "156 178 165 171 187\n",
    "\n",
    "In this case, student_heights would be a list that looks like: [156, 178, 165, 171, 187]\n",
    "\n",
    "Example Output 1\n",
    "\n",
    "total height = 857\n",
    "\n",
    "number of students = 5\n",
    "\n",
    "average height = 171\n",
    "\n",
    "### Example Input 2\n",
    "\n",
    "151 145 179\n",
    "\n",
    "Example Output 2\n",
    "\n",
    "total height = 475\n",
    "\n",
    "number of students = 3\n",
    "\n",
    "average height = 158"
   ]
  },
  {
   "cell_type": "code",
   "execution_count": 3,
   "metadata": {},
   "outputs": [
    {
     "name": "stdout",
     "output_type": "stream",
     "text": [
      "total height = 420 \n",
      "number of students = 3 \n",
      "average height = 140\n"
     ]
    }
   ],
   "source": [
    "# Input a Python list of student heights\n",
    "student_heights = input().split()\n",
    "for n in range(0, len(student_heights)):\n",
    "  student_heights[n] = int(student_heights[n])\n",
    "# 🚨 Don't change the code above 👆\n",
    "  \n",
    "# Write your code below this row 👇\n",
    "sum = 0\n",
    "count = 0\n",
    "for height in student_heights:\n",
    "  sum += height\n",
    "  count += 1\n",
    "\n",
    "average = round(sum/count)\n",
    "print(f\"total height = {sum} \\nnumber of students = {count} \\naverage height = {average}\")\n",
    "  "
   ]
  },
  {
   "cell_type": "markdown",
   "metadata": {},
   "source": [
    "### Instructions\n",
    "\n",
    "You are going to write a program that calculates the highest score from a List of scores.\n",
    "\n",
    "e.g. student_scores = [78, 65, 89, 86, 55, 91, 64, 89]\n",
    "\n",
    "Important you are not allowed to use the max or min functions. The output words must match the example. i.e\n",
    "\n",
    "The highest score in the class is: x\n",
    "\n",
    "### Example Input\n",
    "78 65 89 86 55 91 64 89\n",
    "\n",
    "In this case, student_scores would be a list that looks like: [78, 65, 89, 86, 55, 91, 64, 89]\n",
    "\n",
    "Example Output\n",
    "\n",
    "The highest score in the class is: 91"
   ]
  },
  {
   "cell_type": "code",
   "execution_count": 6,
   "metadata": {},
   "outputs": [
    {
     "name": "stdout",
     "output_type": "stream",
     "text": [
      "The highest score in the class is: 180\n"
     ]
    }
   ],
   "source": [
    "# Input a list of student scores\n",
    "student_scores = input().split()\n",
    "for n in range(0, len(student_scores)):\n",
    "  student_scores[n] = int(student_scores[n])\n",
    "\n",
    "# Write your code below this row 👇\n",
    "max = -1\n",
    "for scores in student_scores:\n",
    "  if scores > max:\n",
    "    max = scores\n",
    "\n",
    "print(f\"The highest score in the class is: {max}\")"
   ]
  },
  {
   "cell_type": "code",
   "execution_count": 7,
   "metadata": {},
   "outputs": [
    {
     "name": "stdout",
     "output_type": "stream",
     "text": [
      "1\n",
      "2\n",
      "3\n",
      "4\n",
      "5\n",
      "6\n",
      "7\n",
      "8\n",
      "9\n"
     ]
    }
   ],
   "source": [
    "for number in range(1,10): # not include 10\n",
    "    print(number)"
   ]
  },
  {
   "cell_type": "code",
   "execution_count": 8,
   "metadata": {},
   "outputs": [
    {
     "name": "stdout",
     "output_type": "stream",
     "text": [
      "1\n",
      "4\n",
      "7\n",
      "10\n"
     ]
    }
   ],
   "source": [
    "for number in range(1,11, 3): # not include 10; step size is 3\n",
    "    print(number)"
   ]
  },
  {
   "cell_type": "code",
   "execution_count": 9,
   "metadata": {},
   "outputs": [
    {
     "name": "stdout",
     "output_type": "stream",
     "text": [
      "5050\n"
     ]
    }
   ],
   "source": [
    "total = 0\n",
    "for number in range(1,101):\n",
    "    total += number\n",
    "print(total) "
   ]
  },
  {
   "cell_type": "markdown",
   "metadata": {},
   "source": [
    "### Instructions\n",
    "\n",
    "You are going to write a program that calculates the sum of all the even numbers from 1 to X. If X is 100 then the first even number would be 2 and the last one is 100:\n",
    "\n",
    "i.e. 2 + 4 + 6 + 8 +10 ... + 98 + 100\n",
    "\n",
    "Important, there should only be 1 print statement in your console output. It should just print the final total and not every step of the calculation.\n",
    "\n",
    "Also, we will constrain the inputs to only take numbers from 0 to a max of 1000.\n",
    "\n",
    "### Example Input 1\n",
    "\n",
    "10\n",
    "\n",
    "Example Output 1\n",
    "\n",
    "30\n",
    "\n",
    "### Example Input 2\n",
    "\n",
    "52\n",
    "\n",
    "Example Output 2\n",
    "\n",
    "702\n",
    "\n",
    "Hint\n",
    "\n",
    "There are quite a few ways of solving this problem, but you will need to use the range() function in any of the solutions."
   ]
  },
  {
   "cell_type": "code",
   "execution_count": 10,
   "metadata": {},
   "outputs": [
    {
     "name": "stdout",
     "output_type": "stream",
     "text": [
      "2550\n"
     ]
    }
   ],
   "source": [
    "target = int(input()) # Enter a number between 0 and 1000\n",
    "# 🚨 Do not change the code above ☝️\n",
    "\n",
    "# Write your code here 👇\n",
    "sum = 0\n",
    "for i in range(1,target+1):\n",
    "  if i % 2 == 0:\n",
    "    sum += i\n",
    "\n",
    "print(sum)"
   ]
  },
  {
   "cell_type": "code",
   "execution_count": 11,
   "metadata": {},
   "outputs": [
    {
     "name": "stdout",
     "output_type": "stream",
     "text": [
      "2550\n"
     ]
    }
   ],
   "source": [
    "target = int(input()) # Enter a number between 0 and 1000\n",
    "# 🚨 Do not change the code above ☝️\n",
    "\n",
    "# Write your code here 👇\n",
    "sum = 0\n",
    "for i in range(2,target+1,2):\n",
    "    sum += i\n",
    "\n",
    "print(sum)"
   ]
  },
  {
   "cell_type": "markdown",
   "metadata": {},
   "source": [
    "### Instructions\n",
    "\n",
    "You are going to write a program that automatically prints the solution to the FizzBuzz game. These are the rules of the FizzBuzz game:\n",
    "\n",
    "Your program should print each number from 1 to 100 in turn and include number 100.\n",
    "\n",
    "When the number is divisible by 3 then instead of printing the number it should print \"Fizz\".\n",
    "\n",
    "When the number is divisible by 5, then instead of printing the number it should print \"Buzz\".`\n",
    "\n",
    "And if the number is divisible by both 3 and 5 e.g. 15 then instead of the number it should print \"FizzBuzz\"\n",
    "\n",
    "e.g. it might start off like this:\n",
    "\n",
    "1\n",
    "\n",
    "2\n",
    "\n",
    "Fizz\n",
    "\n",
    "4\n",
    "\n",
    "Buzz\n",
    "\n",
    "Fizz\n",
    "\n",
    "7\n",
    "\n",
    "8\n",
    "\n",
    "Fizz\n",
    "\n",
    "Buzz\n",
    "\n",
    "11\n",
    "\n",
    "Fizz\n",
    "\n",
    "13\n",
    "\n",
    "14\n",
    "\n",
    "FizzBuzz\n",
    "\n",
    "...etc\n",
    "\n",
    "Hint\n",
    "\n",
    "Remember your answer should start from 1 and go up to and including 100.\n",
    "\n",
    "Each number/text should be printed on a separate line."
   ]
  },
  {
   "cell_type": "code",
   "execution_count": 12,
   "metadata": {},
   "outputs": [
    {
     "name": "stdout",
     "output_type": "stream",
     "text": [
      "1\n",
      "2\n",
      "Fizz\n",
      "4\n",
      "Buzz\n",
      "Fizz\n",
      "7\n",
      "8\n",
      "Fizz\n",
      "Buzz\n",
      "11\n",
      "Fizz\n",
      "13\n",
      "14\n",
      "FizzBuzz\n",
      "16\n",
      "17\n",
      "Fizz\n",
      "19\n",
      "Buzz\n",
      "Fizz\n",
      "22\n",
      "23\n",
      "Fizz\n",
      "Buzz\n",
      "26\n",
      "Fizz\n",
      "28\n",
      "29\n",
      "FizzBuzz\n",
      "31\n",
      "32\n",
      "Fizz\n",
      "34\n",
      "Buzz\n",
      "Fizz\n",
      "37\n",
      "38\n",
      "Fizz\n",
      "Buzz\n",
      "41\n",
      "Fizz\n",
      "43\n",
      "44\n",
      "FizzBuzz\n",
      "46\n",
      "47\n",
      "Fizz\n",
      "49\n",
      "Buzz\n",
      "Fizz\n",
      "52\n",
      "53\n",
      "Fizz\n",
      "Buzz\n",
      "56\n",
      "Fizz\n",
      "58\n",
      "59\n",
      "FizzBuzz\n",
      "61\n",
      "62\n",
      "Fizz\n",
      "64\n",
      "Buzz\n",
      "Fizz\n",
      "67\n",
      "68\n",
      "Fizz\n",
      "Buzz\n",
      "71\n",
      "Fizz\n",
      "73\n",
      "74\n",
      "FizzBuzz\n",
      "76\n",
      "77\n",
      "Fizz\n",
      "79\n",
      "Buzz\n",
      "Fizz\n",
      "82\n",
      "83\n",
      "Fizz\n",
      "Buzz\n",
      "86\n",
      "Fizz\n",
      "88\n",
      "89\n",
      "FizzBuzz\n",
      "91\n",
      "92\n",
      "Fizz\n",
      "94\n",
      "Buzz\n",
      "Fizz\n",
      "97\n",
      "98\n",
      "Fizz\n",
      "Buzz\n"
     ]
    }
   ],
   "source": [
    "# Write your code here 👇\n",
    "for i in range(1, 101):\n",
    "  if i % 3 == 0 and i % 5 == 0:\n",
    "    print(\"FizzBuzz\")\n",
    "  elif i % 3 == 0:\n",
    "    print(\"Fizz\")\n",
    "  elif i % 5 == 0:\n",
    "    print(\"Buzz\")\n",
    "  else:\n",
    "    print(i)"
   ]
  }
 ],
 "metadata": {
  "kernelspec": {
   "display_name": "Python 3",
   "language": "python",
   "name": "python3"
  },
  "language_info": {
   "codemirror_mode": {
    "name": "ipython",
    "version": 3
   },
   "file_extension": ".py",
   "mimetype": "text/x-python",
   "name": "python",
   "nbconvert_exporter": "python",
   "pygments_lexer": "ipython3",
   "version": "3.9.13"
  }
 },
 "nbformat": 4,
 "nbformat_minor": 2
}
