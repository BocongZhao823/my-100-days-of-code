{
 "cells": [
  {
   "cell_type": "markdown",
   "metadata": {},
   "source": [
    "### Day 3"
   ]
  },
  {
   "cell_type": "code",
   "execution_count": 1,
   "metadata": {},
   "outputs": [
    {
     "name": "stdout",
     "output_type": "stream",
     "text": [
      "Welcome to the rollercoaster!\n",
      "You can ride the rollercoaster!\n"
     ]
    }
   ],
   "source": [
    "print(\"Welcome to the rollercoaster!\")\n",
    "height = int(input(\"What is your height in cm?\"))\n",
    "\n",
    "if height > 120:\n",
    "    print(\"You can ride the rollercoaster!\")\n",
    "else:\n",
    "    print(\"Sorry, you have to grow taller before you can ride.\")\n",
    "\n",
    "# check use ==; assig use ="
   ]
  },
  {
   "cell_type": "code",
   "execution_count": null,
   "metadata": {},
   "outputs": [],
   "source": [
    "# Which number do you want to check?\n",
    "number = int(input())\n",
    "# 🚨 Don't change the code above 👆\n",
    "if number % 2 == 0:\n",
    "  print(\"This is an even number.\")\n",
    "else:\n",
    "  print(\"This is an odd number.\")\n",
    "# Write your code below this line 👇"
   ]
  },
  {
   "cell_type": "code",
   "execution_count": null,
   "metadata": {},
   "outputs": [],
   "source": [
    "print(\"Welcome to the rollercoaster!\")\n",
    "height = int(input(\"What is your height in cm?\"))\n",
    "\n",
    "if height > 120:\n",
    "    print(\"You can ride the rollercoaster!\")\n",
    "    age = int(input(\"What is your age? \"))\n",
    "    if age <=18:\n",
    "        print(\"Please pay $7.\")\n",
    "    else:\n",
    "        print(\"Please pay $12.\")\n",
    "else:\n",
    "    print(\"Sorry, you have to grow taller before you can ride.\")\n"
   ]
  },
  {
   "cell_type": "code",
   "execution_count": 2,
   "metadata": {},
   "outputs": [
    {
     "name": "stdout",
     "output_type": "stream",
     "text": [
      "Welcome to the rollercoaster!\n",
      "You can ride the rollercoaster!\n",
      "Please pay $5.\n"
     ]
    }
   ],
   "source": [
    "print(\"Welcome to the rollercoaster!\")\n",
    "height = int(input(\"What is your height in cm?\"))\n",
    "\n",
    "if height > 120:\n",
    "    print(\"You can ride the rollercoaster!\")\n",
    "    age = int(input(\"What is your age? \"))\n",
    "    if age < 12:\n",
    "        print(\"Please pay $5.\")\n",
    "    elif age <=18:\n",
    "        print(\"Please pay $7.\")\n",
    "    else:\n",
    "        print(\"Please pay $12.\")\n",
    "else:\n",
    "    print(\"Sorry, you have to grow taller before you can ride.\")"
   ]
  },
  {
   "cell_type": "code",
   "execution_count": null,
   "metadata": {},
   "outputs": [],
   "source": [
    "# Enter your height in meters e.g., 1.55\n",
    "height = float(input())\n",
    "# Enter your weight in kilograms e.g., 72\n",
    "weight = int(input())\n",
    "# 🚨 Don't change the code above 👆\n",
    "#Write your code below this line 👇\n",
    "bmi = (weight/ (height**2))\n",
    "if bmi < 18.5:\n",
    "  print(f\"Your BMI is {bmi}, you are underweight.\")\n",
    "elif bmi >= 18.5 and bmi < 25:\n",
    "  print(f\"Your BMI is {bmi}, you have a normal weight.\")\n",
    "elif bmi >= 25 and bmi < 30:\n",
    "  print(f\"Your BMI is {bmi}, you are slightly overweight.\")\n",
    "elif bmi >= 30 and bmi < 35:\n",
    "  print(f\"Your BMI is {bmi}, you are obese.\")\n",
    "else:\n",
    "  print(f\"Your BMI is {bmi}, you are clinically obese.\")"
   ]
  },
  {
   "cell_type": "code",
   "execution_count": null,
   "metadata": {},
   "outputs": [],
   "source": [
    "# Which year do you want to check?\n",
    "year = int(input())\n",
    "# 🚨 Don't change the code above 👆\n",
    "# Write your code below this line 👇\n",
    "if year % 4 == 0:\n",
    "  if year % 100 == 0:\n",
    "    if year % 400 == 0:\n",
    "      print(\"Leap year\")\n",
    "    else:\n",
    "      print(\"Not leap year\")\n",
    "  else:\n",
    "    print(\"Leap year\")\n",
    "else:\n",
    "  print(\"Not leap year\")"
   ]
  },
  {
   "cell_type": "code",
   "execution_count": 10,
   "metadata": {},
   "outputs": [
    {
     "name": "stdout",
     "output_type": "stream",
     "text": [
      "Welcome to the rollercoaster!\n",
      "You can ride the rollercoaster!\n",
      "Please pay $12.\n",
      "Your final bill is 15\n"
     ]
    }
   ],
   "source": [
    "print(\"Welcome to the rollercoaster!\")\n",
    "height = int(input(\"What is your height in cm?\"))\n",
    "\n",
    "bill = 0\n",
    "\n",
    "if height > 120:\n",
    "    print(\"You can ride the rollercoaster!\")\n",
    "    age = int(input(\"What is your age? \"))\n",
    "    if age < 12:\n",
    "        bill = 5\n",
    "        print(\"Please pay $5.\")\n",
    "    elif age <=18:\n",
    "        bill = 7\n",
    "        print(\"Please pay $7.\")\n",
    "    else:\n",
    "        bill = 12\n",
    "        print(\"Please pay $12.\")\n",
    "    \n",
    "    wants_photo = input(\"Do you want a photo taken? Y or N.\")\n",
    "    \n",
    "    if wants_photo == \"Y\":\n",
    "        bill += 3\n",
    "        print(f\"Your final bill is {bill}\")\n",
    "else:\n",
    "    print(\"Sorry, you have to grow taller before you can ride.\")"
   ]
  },
  {
   "cell_type": "code",
   "execution_count": null,
   "metadata": {},
   "outputs": [],
   "source": [
    "print(\"Thank you for choosing Python Pizza Deliveries!\")\n",
    "size = input() # What size pizza do you want? S, M, or L\n",
    "add_pepperoni = input() # Do you want pepperoni? Y or N\n",
    "extra_cheese = input() # Do you want extra cheese? Y or N\n",
    "# 🚨 Don't change the code above 👆\n",
    "# Write your code below this line 👇\n",
    "bill = 0\n",
    "if size == 'S':\n",
    "    bill += 15   \n",
    "elif size == 'M':\n",
    "    bill += 20\n",
    "else:\n",
    "    bill += 25\n",
    "\n",
    "if add_pepperoni == 'Y':\n",
    "  if size == 'S':\n",
    "    bill += 2\n",
    "  else:\n",
    "    bill += 3\n",
    "\n",
    "if extra_cheese == 'Y':\n",
    "  bill += 1\n",
    "  \n",
    "print(f\"Your final bill is: ${bill}.\")"
   ]
  },
  {
   "cell_type": "code",
   "execution_count": 11,
   "metadata": {},
   "outputs": [
    {
     "name": "stdout",
     "output_type": "stream",
     "text": [
      "Welcome to the rollercoaster!\n",
      "You can ride the rollercoaster!\n",
      "Everything is going to be ok. Have a free ride on us!\n"
     ]
    }
   ],
   "source": [
    "print(\"Welcome to the rollercoaster!\")\n",
    "height = int(input(\"What is your height in cm?\"))\n",
    "\n",
    "bill = 0\n",
    "\n",
    "if height > 120:\n",
    "    print(\"You can ride the rollercoaster!\")\n",
    "    age = int(input(\"What is your age? \"))\n",
    "    if age < 12:\n",
    "        bill = 5\n",
    "        print(\"Please pay $5.\")\n",
    "    elif age <=18:\n",
    "        bill = 7\n",
    "        print(\"Please pay $7.\")\n",
    "    elif age >= 45 and age <= 55:\n",
    "        print(\"Everything is going to be ok. Have a free ride on us!\")\n",
    "    else:\n",
    "        bill = 12\n",
    "        print(\"Please pay $12.\")\n",
    "    \n",
    "    wants_photo = input(\"Do you want a photo taken? Y or N.\")\n",
    "    \n",
    "    if wants_photo == \"Y\":\n",
    "        bill += 3\n",
    "        print(f\"Your final bill is {bill}\")\n",
    "else:\n",
    "    print(\"Sorry, you have to grow taller before you can ride.\")"
   ]
  },
  {
   "cell_type": "code",
   "execution_count": 22,
   "metadata": {},
   "outputs": [
    {
     "name": "stdout",
     "output_type": "stream",
     "text": [
      "The Love Calculator is calculating your score...\n",
      "Your score is 2, you go together like coke and mentos.\n"
     ]
    }
   ],
   "source": [
    "print(\"The Love Calculator is calculating your score...\")\n",
    "name1 = input() # What is your name?\n",
    "name2 = input() # What is their name?\n",
    "# 🚨 Don't change the code above 👆\n",
    "# Write your code below this line 👇\n",
    "lowerName1 = name1.lower()\n",
    "lowerName2 = name2.lower()\n",
    "nameTotal = lowerName1 + lowerName2\n",
    "n = len(nameTotal)\n",
    "trueCount = 0\n",
    "loveCount = 0\n",
    "\n",
    "for i in range(n):\n",
    "  if nameTotal[i] == 't' or nameTotal[i] == 'r' or nameTotal[i] == 'u' or nameTotal[i] == 'e':\n",
    "    #print(nameTotal[i])\n",
    "    trueCount += 1\n",
    "    #print(f\"trueCount here,{trueCount}\")\n",
    "\n",
    "for i in range(n):\n",
    "   if nameTotal[i] == 'l' or nameTotal[i] ==  'o' or nameTotal[i] == 'v' or nameTotal[i] == 'e':\n",
    "    #print(nameTotal[i])\n",
    "    loveCount += 1\n",
    "    #print(f\"loveCount here, {loveCount}\")\n",
    "\n",
    "trueNum = str(trueCount)\n",
    "loveCount = str(loveCount)\n",
    "\n",
    "finalstr = trueNum + loveCount\n",
    "finalNum = int(finalstr)\n",
    "#print(f\"trueCount{trueCount}, loveCount{loveCount}, finalNum{finalNum}\")\n",
    "\n",
    "if finalNum < 10 or finalNum>90:\n",
    "  print(f\"Your score is {finalNum}, you go together like coke and mentos.\")\n",
    "elif finalNum > 40 and finalNum< 50:\n",
    "  print(f\"Your score is {finalNum}, you are alright together.\")\n",
    "else:\n",
    "  print(f\"Your score is {finalNum}.\")"
   ]
  },
  {
   "cell_type": "code",
   "execution_count": 23,
   "metadata": {},
   "outputs": [
    {
     "name": "stdout",
     "output_type": "stream",
     "text": [
      "The Love Calculator is calculating your score...\n",
      "Your score is 2, you go together like coke and mentos.\n"
     ]
    }
   ],
   "source": [
    "print(\"The Love Calculator is calculating your score...\")\n",
    "name1 = input() # What is your name?\n",
    "name2 = input() # What is their name?\n",
    "# 🚨 Don't change the code above 👆\n",
    "# Write your code below this line 👇\n",
    "combined_names = lowerName1 + lowerName2\n",
    "nameTotal = combined_names.lower()\n",
    "\n",
    "t = nameTotal.count(\"t\")\n",
    "r = nameTotal.count(\"r\")\n",
    "u = nameTotal.count(\"u\")\n",
    "e = nameTotal.count(\"e\")\n",
    "first_digit = t + r + u + e\n",
    "\n",
    "l = nameTotal.count(\"l\")\n",
    "o = nameTotal.count(\"o\")\n",
    "v = nameTotal.count(\"v\")\n",
    "e = nameTotal.count(\"e\")\n",
    "second_digit = l + o + v + e\n",
    "\n",
    "finalNum = int(str(first_digit) + str(second_digit))\n",
    "if finalNum < 10 or finalNum>90:\n",
    "  print(f\"Your score is {finalNum}, you go together like coke and mentos.\")\n",
    "elif finalNum > 40 and finalNum< 50:\n",
    "  print(f\"Your score is {finalNum}, you are alright together.\")\n",
    "else:\n",
    "  print(f\"Your score is {finalNum}.\")"
   ]
  }
 ],
 "metadata": {
  "kernelspec": {
   "display_name": "Python 3",
   "language": "python",
   "name": "python3"
  },
  "language_info": {
   "codemirror_mode": {
    "name": "ipython",
    "version": 3
   },
   "file_extension": ".py",
   "mimetype": "text/x-python",
   "name": "python",
   "nbconvert_exporter": "python",
   "pygments_lexer": "ipython3",
   "version": "3.9.13"
  }
 },
 "nbformat": 4,
 "nbformat_minor": 2
}
