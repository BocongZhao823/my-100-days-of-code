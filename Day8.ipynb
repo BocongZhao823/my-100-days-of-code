{
 "cells": [
  {
   "cell_type": "code",
   "execution_count": 1,
   "metadata": {},
   "outputs": [
    {
     "name": "stdout",
     "output_type": "stream",
     "text": [
      "Hello\n",
      "How do you do?\n",
      "Isn't the weather nice today?\n"
     ]
    }
   ],
   "source": [
    "# Review:\n",
    "# Create a function called greet().\n",
    "def greet():\n",
    "    # Write 3 print statements inside the function\n",
    "    print(\"Hello\")\n",
    "    print(\"How do you do?\")\n",
    "    print(\"Isn't the weather nice today?\")\n",
    "\n",
    "# Call the greet() function and run your code.\n",
    "greet()"
   ]
  },
  {
   "cell_type": "code",
   "execution_count": 3,
   "metadata": {},
   "outputs": [
    {
     "name": "stdout",
     "output_type": "stream",
     "text": [
      "Hello Scarlett\n",
      "How do you do Scarlett\n"
     ]
    }
   ],
   "source": [
    "# Functions with Inputs\n",
    "def greet_with_name(name):\n",
    "    print(f\"Hello {name}\")\n",
    "    print(f\"How do you do {name}\")\n",
    "\n",
    "greet_with_name(\"Scarlett\")"
   ]
  },
  {
   "cell_type": "code",
   "execution_count": 6,
   "metadata": {},
   "outputs": [
    {
     "name": "stdout",
     "output_type": "stream",
     "text": [
      "Hello Jack Bauer \n",
      "What is it like in Nowhere\n",
      "Hello Angela \n",
      "What is it like in London\n"
     ]
    }
   ],
   "source": [
    "# Functions with more than 1 input\n",
    "def greet_with(name, location):\n",
    "    print(f\"Hello {name} \\nWhat is it like in {location}\")\n",
    "\n",
    "greet_with(\"Jack Bauer\", \"Nowhere\")\n",
    "greet_with(location = \"London\", name = \"Angela\")"
   ]
  },
  {
   "cell_type": "markdown",
   "metadata": {},
   "source": [
    "### Instructions\n",
    "\n",
    "You are painting a wall. The instructions on the paint can says that 1 can of paint can cover 5 square meters of wall. Given a random height and width of wall, calculate how many cans of paint you'll need to buy.\n",
    "\n",
    "number of cans = (wall height x wall width) ÷ coverage per can.\n",
    "\n",
    "e.g. Height = 2, Width = 4, Coverage = 5\n",
    "\n",
    "number of cans = (2 \\* 4) / 5\n",
    "               = 1.6\n",
    "But because you can't buy 0.6 of a can of paint, the result should be rounded up to 2 cans.\n",
    "\n",
    "IMPORTANT: Notice the name of the function and parameters must match those on line 13 for the code to work.\n",
    "\n",
    "### Example Input\n",
    "\n",
    "3\n",
    "\n",
    "9\n",
    "\n",
    "Example Output\n",
    "\n",
    "You'll need 6 cans of paint."
   ]
  },
  {
   "cell_type": "code",
   "execution_count": null,
   "metadata": {},
   "outputs": [],
   "source": []
  }
 ],
 "metadata": {
  "kernelspec": {
   "display_name": "Python 3",
   "language": "python",
   "name": "python3"
  },
  "language_info": {
   "codemirror_mode": {
    "name": "ipython",
    "version": 3
   },
   "file_extension": ".py",
   "mimetype": "text/x-python",
   "name": "python",
   "nbconvert_exporter": "python",
   "pygments_lexer": "ipython3",
   "version": "3.9.13"
  }
 },
 "nbformat": 4,
 "nbformat_minor": 2
}
