{
 "cells": [
  {
   "cell_type": "code",
   "execution_count": 7,
   "metadata": {},
   "outputs": [],
   "source": [
    "import random\n",
    "import Day4_my_module # Module "
   ]
  },
  {
   "cell_type": "code",
   "execution_count": 6,
   "metadata": {},
   "outputs": [
    {
     "name": "stdout",
     "output_type": "stream",
     "text": [
      "3\n"
     ]
    }
   ],
   "source": [
    "random_integer = random.randint(1,10)\n",
    "print(random_integer)"
   ]
  },
  {
   "cell_type": "code",
   "execution_count": 8,
   "metadata": {},
   "outputs": [
    {
     "name": "stdout",
     "output_type": "stream",
     "text": [
      "3.131415926\n"
     ]
    }
   ],
   "source": [
    "print(Day4_my_module.pi)"
   ]
  },
  {
   "cell_type": "code",
   "execution_count": 9,
   "metadata": {},
   "outputs": [
    {
     "name": "stdout",
     "output_type": "stream",
     "text": [
      "0.7891274295107525\n"
     ]
    }
   ],
   "source": [
    "# 0.00000000 - 0.999999999999\n",
    "random_float = random.random()\n",
    "print(random_float)"
   ]
  },
  {
   "cell_type": "code",
   "execution_count": 10,
   "metadata": {},
   "outputs": [
    {
     "data": {
      "text/plain": [
       "3.9456371475537626"
      ]
     },
     "execution_count": 10,
     "metadata": {},
     "output_type": "execute_result"
    }
   ],
   "source": [
    "random_float * 5\n",
    "# 0.00000000000 - 4.99999999999999999"
   ]
  },
  {
   "cell_type": "code",
   "execution_count": 17,
   "metadata": {},
   "outputs": [
    {
     "name": "stdout",
     "output_type": "stream",
     "text": [
      "Your love score is 9\n"
     ]
    }
   ],
   "source": [
    "love_score = random.randint(1,100)\n",
    "print(f\"Your love score is {love_score}\")"
   ]
  },
  {
   "cell_type": "code",
   "execution_count": null,
   "metadata": {},
   "outputs": [],
   "source": [
    "# Write your code below this line 👇\n",
    "# Hint: Remember to import the random module first. 🎲\n",
    "import random\n",
    "\n",
    "num = random.randint(0,1)\n",
    "if num == 0:\n",
    "  print(\"Tails\")\n",
    "else:\n",
    "  print(\"Heads\")"
   ]
  },
  {
   "cell_type": "code",
   "execution_count": 18,
   "metadata": {},
   "outputs": [
    {
     "name": "stdout",
     "output_type": "stream",
     "text": [
      "Delaware\n",
      "['Delaware', 'Pennsylvania', ['Anglaland', 'Jack Bauer Land']]\n"
     ]
    }
   ],
   "source": [
    "states_of_america = [\"Delaware\", \"Pennsylvania\"]\n",
    "print(states_of_america[0])\n",
    "states_of_america.append([\"Anglaland\",\"Jack Bauer Land\"])\n",
    "print(states_of_america)"
   ]
  },
  {
   "cell_type": "markdown",
   "metadata": {},
   "source": [
    "### Instructions\n",
    "\n",
    "You are going to write a program that will select a random name from a list of names. The person selected will have to pay for everybody's food bill.\n",
    "\n",
    "Important: You are not allowed to use the choice() function.\n",
    "\n",
    "Line 1 splits the string names_string into individual names and puts them inside a List called names. For this to work, you must enter all the names as names followed by comma then space. e.g. name, name, name\n",
    "\n",
    "NOTE: Don't worry about getting hold of the input(), we've done the work behind the scenes to import everything.\n",
    "\n",
    "HINT: Assume that names looks like this: input: x, y, z, names = [\"x\", \"y\", \"z\"]\n",
    "\n",
    "Example Input\n",
    "Angela, Ben, Jenny, Michael, Chloe\n",
    "Note: notice that there is a space between the comma and the next name.\n",
    "\n",
    "Example Output\n",
    "Michael is going to buy the meal today!"
   ]
  },
  {
   "cell_type": "code",
   "execution_count": 21,
   "metadata": {},
   "outputs": [
    {
     "name": "stdout",
     "output_type": "stream",
     "text": [
      "James is going to buy the meal today!\n"
     ]
    }
   ],
   "source": [
    "names_string = input()\n",
    "names = names_string.split(\", \")\n",
    "# The code above converts the input into an array seperating\n",
    "#each name in the input by a comma and space.\n",
    "# 🚨 Don't change the code above 👆\n",
    "import random\n",
    "rand_idx = random.randint(0, len(names)-1)\n",
    "random_num = names[rand_idx]\n",
    "print(f\"{random_num} is going to buy the meal today!\")"
   ]
  },
  {
   "cell_type": "code",
   "execution_count": 23,
   "metadata": {},
   "outputs": [
    {
     "name": "stdout",
     "output_type": "stream",
     "text": [
      "Pennsylvania\n"
     ]
    }
   ],
   "source": [
    "states_of_america = [\"Delaware\", \"Pennsylvania\"]\n",
    "num_of_states = len(states_of_america)\n",
    "print(states_of_america[num_of_states -1])"
   ]
  },
  {
   "cell_type": "code",
   "execution_count": 24,
   "metadata": {},
   "outputs": [
    {
     "name": "stdout",
     "output_type": "stream",
     "text": [
      "[['strawberries', 'Nectarines'], ['Spinach', 'Kale', 'Tomatoes']]\n"
     ]
    }
   ],
   "source": [
    "fruits = [\"strawberries\", \"Nectarines\"]\n",
    "vegetables = [\"Spinach\", \"Kale\", \"Tomatoes\"]\n",
    "dirty_dozen = [fruits, vegetables]\n",
    "print(dirty_dozen)"
   ]
  },
  {
   "cell_type": "markdown",
   "metadata": {},
   "source": [
    "### Instructions\n",
    "\n",
    "This is a difficult challenge. 💪\n",
    "\n",
    "You are going to write a program that will mark a spot on a map with an X.\n",
    "\n",
    "In the starting code, you will find a variable called map.\n",
    "\n",
    "This map contains a nested list. When map is printed this is what it looks like, notice the nesting:\n",
    "\n",
    "[['⬜️', '⬜️', '⬜️'],['⬜️', '⬜️', '⬜️'],['⬜️', '⬜️', '⬜️']]\n",
    "\n",
    "This is a bit hard to work with. So on lines 6 and 23, we've used this line of code print(f\"{row1}\\n{row2}\\n{row3}\") to format the 3 lists to be printed as a 3 by 3 grid, each on a new line.\n",
    "\n",
    "['⬜️', '⬜️', '⬜️']\n",
    "\n",
    "['⬜️', '⬜️', '⬜️']\n",
    "\n",
    "['⬜️', '⬜️', '⬜️']\n",
    "\n",
    "Now it looks a bit more like the coordinates of a real map:\n",
    "\n",
    "Map Coordinates Example\n",
    "\n",
    "Your job is to write a program that allows you to mark a square on the map using a letter-number system.\n",
    "\n",
    "List coordinates\n",
    "\n",
    "So an input of A3 should place an X at the position shown below:\n",
    "\n",
    "Exmaple location\n",
    "\n",
    "First, your program must take the user input and convert it to a usable format.\n",
    "\n",
    "Next, you need to use that input to update your nested list with an \"X\". Remember that your nested list map actually looks like this:\n",
    "\n",
    "[['⬜️', '⬜️', '⬜️'],['⬜️', '⬜️', '⬜️'],['⬜️', '⬜️', '⬜️']]\n",
    "\n",
    "#### Example Input 1\n",
    "\n",
    "B3\n",
    "\n",
    "Example Output 1\n",
    "\n",
    "Hiding your treasure! X marks the spot.\n",
    "\n",
    "['⬜️', '️⬜️', '️⬜️']\n",
    "\n",
    "['⬜️', '⬜️', '️⬜️']\n",
    "\n",
    "['⬜️️', 'X', '⬜️️']\n",
    "\n",
    "### Example Input 2\n",
    "\n",
    "B1\n",
    "\n",
    "Example Output 2\n",
    "\n",
    "Hiding your treasure! X marks the spot.\n",
    "\n",
    "['⬜️', 'X', '️⬜️']\n",
    "\n",
    "['⬜️', '⬜️', '️⬜️']\n",
    "\n",
    "['⬜️️', '⬜️️', '⬜️️']\n",
    "\n",
    "Hints\n",
    "\n",
    "See if this List method helps you: https://www.w3schools.com/python/ref_list_index.asp\n",
    "\n",
    "Remember that nested Lists in Python are accessed from outside to inside. e.g. In the List below:\n",
    "\n",
    "list = [['A', 'B, 'C'], 'E', 'F', 'G']\n",
    "\n",
    "E is list[1] C is list[0][2]\n",
    "\n",
    "Check your formatting. This is correctly formatted:\n",
    "\n",
    "['⬜️', '⬜️', '⬜️']\n",
    "\n",
    "['⬜️', '⬜️', '⬜️']\n",
    "\n",
    "['⬜️', 'X', '⬜️']\n",
    "\n",
    "vs.\n",
    "\n",
    "Incorrectly formatted (missing a space before 'X and extra space after the X and extra space before the comma):\n",
    "\n",
    "['⬜️', '⬜️', '⬜️']\n",
    "\n",
    "['⬜️', '⬜️', '⬜️']\n",
    "\n",
    "['⬜️','X ' , '⬜️']"
   ]
  },
  {
   "cell_type": "code",
   "execution_count": 26,
   "metadata": {},
   "outputs": [
    {
     "name": "stdout",
     "output_type": "stream",
     "text": [
      "Hiding your treasure! X marks the spot.\n",
      "['⬜️', '️⬜️', '️⬜️']\n",
      "['⬜️', '⬜️', '️⬜️']\n",
      "['⬜️️', 'X', '⬜️️']\n"
     ]
    }
   ],
   "source": [
    "line1 = [\"⬜️\",\"️⬜️\",\"️⬜️\"]\n",
    "line2 = [\"⬜️\",\"⬜️\",\"️⬜️\"]\n",
    "line3 = [\"⬜️️\",\"⬜️️\",\"⬜️️\"]\n",
    "map = [line1, line2, line3]\n",
    "print(\"Hiding your treasure! X marks the spot.\")\n",
    "position = input() # Where do you want to put the treasure?\n",
    "# 🚨 Don't change the code above 👆\n",
    "# Write your code below this row 👇\n",
    "firstP = position[0].lower()\n",
    "secondP = int(position[1]) - 1\n",
    "\n",
    "# if firstP == \"a\":\n",
    "#    firstP = 0\n",
    "# elif firstP == \"b\":\n",
    "#   firstP = 1\n",
    "# elif firstP == \"c\":\n",
    "#   firstP = 2\n",
    "\n",
    "abc = [\"a\", \"b\", \"c\"]\n",
    "firstP = abc.index(firstP)\n",
    "\n",
    "map[secondP][firstP] = 'X'\n",
    "  \n",
    "# Write your code above this row 👆\n",
    "# 🚨 Don't change the code below 👇\n",
    "print(f\"{line1}\\n{line2}\\n{line3}\")"
   ]
  }
 ],
 "metadata": {
  "kernelspec": {
   "display_name": "Python 3",
   "language": "python",
   "name": "python3"
  },
  "language_info": {
   "codemirror_mode": {
    "name": "ipython",
    "version": 3
   },
   "file_extension": ".py",
   "mimetype": "text/x-python",
   "name": "python",
   "nbconvert_exporter": "python",
   "pygments_lexer": "ipython3",
   "version": "3.9.13"
  }
 },
 "nbformat": 4,
 "nbformat_minor": 2
}
